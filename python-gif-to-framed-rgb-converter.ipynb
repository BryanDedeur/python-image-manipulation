{
 "cells": [
  {
   "cell_type": "code",
   "execution_count": 42,
   "metadata": {},
   "outputs": [
    {
     "name": "stdout",
     "output_type": "stream",
     "text": [
      "\n",
      "\n",
      "\n",
      "\n",
      "\n",
      "\n",
      "\n",
      "\n",
      "\n",
      "Finished making output table: test2-pixel-map.txt\n"
     ]
    }
   ],
   "source": [
    "from PIL import Image\n",
    "directory = 'test2/'\n",
    "fileName = 'test2'\n",
    "extension = '.gif'\n",
    "sizex = 50\n",
    "sizey = 25\n",
    "\n",
    "file = open(directory+fileName+\"-pixel-map.txt\", \"a\")\n",
    "file.truncate(0) # need '0' when using r+\n",
    "\n",
    "im = Image.open(directory+fileName+extension)\n",
    "\n",
    "def iter_frames(im):\n",
    "    try:\n",
    "        i= 0\n",
    "        while 1:\n",
    "            im.seek(i)\n",
    "            imframe = im.copy()\n",
    "            if i == 0: \n",
    "                palette = imframe.getpalette()\n",
    "            else:\n",
    "                imframe.putpalette(palette)\n",
    "            yield imframe\n",
    "            i += 1\n",
    "    except EOFError:\n",
    "        pass\n",
    "\n",
    "file.write('local video = {\\n')\n",
    "for i, frame in enumerate(iter_frames(im)):\n",
    "    this = (directory+'frame%d'+extension) % i\n",
    "    frame.save(this,**frame.info)\n",
    "    temp = Image.open(this)\n",
    "    temp.save(this)\n",
    "    rgb_im = temp.convert('RGB')\n",
    "    file.write('\\tframe'+str(i+1)+' = {\\n')\n",
    "    print()\n",
    "    for x in range(0, sizex):\n",
    "        file.write('\\t{')\n",
    "        for y in range(0, sizey):\n",
    "            if y == sizey-1:\n",
    "                file.write(str(rgb_im.getpixel((x,y))).strip('()'))\n",
    "            else:\n",
    "                file.write(str(rgb_im.getpixel((x,y))).strip('()')+', ')\n",
    "        if x == sizex-1:\n",
    "            file.write('}\\n')\n",
    "        else:\n",
    "            file.write('},\\n')\n",
    "    if i+1 == len(list(iter_frames(im))):\n",
    "        file.write('\\t}\\n')\n",
    "    else:\n",
    "        file.write('\\t},\\n\\n')\n",
    "\n",
    "file.write('} return video')\n",
    "       \n",
    "file.close()\n",
    "print('Finished making output table: '+fileName+\"-pixel-map.txt\")"
   ]
  },
  {
   "cell_type": "code",
   "execution_count": null,
   "metadata": {},
   "outputs": [],
   "source": [
    "    temp = temp.resize((sizex,sizey), Image.ANTIALIAS)\n",
    "#video.frame1\n"
   ]
  },
  {
   "cell_type": "code",
   "execution_count": null,
   "metadata": {},
   "outputs": [],
   "source": []
  }
 ],
 "metadata": {
  "kernelspec": {
   "display_name": "Python 3",
   "language": "python",
   "name": "python3"
  },
  "language_info": {
   "codemirror_mode": {
    "name": "ipython",
    "version": 3
   },
   "file_extension": ".py",
   "mimetype": "text/x-python",
   "name": "python",
   "nbconvert_exporter": "python",
   "pygments_lexer": "ipython3",
   "version": "3.6.7"
  }
 },
 "nbformat": 4,
 "nbformat_minor": 2
}
