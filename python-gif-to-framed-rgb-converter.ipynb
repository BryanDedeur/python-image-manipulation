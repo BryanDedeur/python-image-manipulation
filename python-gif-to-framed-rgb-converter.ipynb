{
 "cells": [
  {
   "cell_type": "code",
   "execution_count": 63,
   "metadata": {},
   "outputs": [
    {
     "name": "stdout",
     "output_type": "stream",
     "text": [
      "Finished making output table: test-pixel-map.txt\n"
     ]
    }
   ],
   "source": [
    "from PIL import Image\n",
    "directory = 'test4/'\n",
    "fileName = 'test'\n",
    "extension = '.gif'\n",
    "sizex = 50\n",
    "sizey = 25\n",
    "\n",
    "file = open(directory+fileName+\"-pixel-map.txt\", \"a\")\n",
    "file.truncate(0) # need '0' when using r+\n",
    "\n",
    "im = Image.open(directory+fileName+extension)\n",
    "\n",
    "def iter_frames(im):\n",
    "    try:\n",
    "        i= 0\n",
    "        while 1:\n",
    "            im.seek(i)\n",
    "            imframe = im.copy()\n",
    "            if i == 0: \n",
    "                palette = imframe.getpalette()\n",
    "            else:\n",
    "                imframe.putpalette(palette)\n",
    "            yield imframe\n",
    "            i += 1\n",
    "    except EOFError:\n",
    "        pass\n",
    "\n",
    "file.write('local video = {\\n')\n",
    "for i, frame in enumerate(iter_frames(im)):\n",
    "    filename = (directory+'frame%d'+'.png') % i\n",
    "    frame = frame.convert(mode='P', palette=Image.ADAPTIVE)\n",
    "    frame = frame.resize((sizex,sizey), Image.ANTIALIAS)\n",
    "    frame = frame.convert('RGB')\n",
    "    quality_val = 90\n",
    "    frame.save(filename, 'PNG', quality=quality_val)\n",
    "    capture = Image.open(filename)\n",
    "    file.write('\\tframe'+str(i+1)+' = {\\n')\n",
    "    for x in range(0, sizex):\n",
    "        file.write('\\t{')\n",
    "        for y in range(0, sizey):\n",
    "            if y == sizey-1:\n",
    "                file.write(str(capture.getpixel((x,y))).strip('()'))\n",
    "            else:\n",
    "                file.write(str(capture.getpixel((x,y))).strip('()')+', ')\n",
    "        if x == sizex-1:\n",
    "            file.write('}\\n')\n",
    "        else:\n",
    "            file.write('},\\n')\n",
    "    if i+1 == len(list(iter_frames(im))):\n",
    "        file.write('\\t}\\n')\n",
    "    else:\n",
    "        file.write('\\t},\\n\\n')\n",
    "\n",
    "file.write('} return video')\n",
    "       \n",
    "file.close()\n",
    "print('Finished making output table: '+fileName+\"-pixel-map.txt\")"
   ]
  },
  {
   "cell_type": "code",
   "execution_count": 83,
   "metadata": {},
   "outputs": [
    {
     "name": "stdout",
     "output_type": "stream",
     "text": [
      "Processing video...\n",
      "Video finished processing into rgb framed table.\n",
      "Number of frames:  1866\n",
      "--- 46.801599979400635 seconds ---\n"
     ]
    }
   ],
   "source": [
    "import cv2\n",
    "from PIL import Image\n",
    "import time\n",
    "directory = 'rainingTacos/'\n",
    "vidcap = cv2.VideoCapture(directory+'rainingTacos.mp4')\n",
    "success,image = vidcap.read()\n",
    "count = 0\n",
    "\n",
    "start_time = time.time()\n",
    "\n",
    "sizex = 100\n",
    "sizey = 50\n",
    "\n",
    "\n",
    "file = open(directory+fileName+\"-pixel-map.txt\", \"a\")\n",
    "file.truncate(0) # need '0' when using r+\n",
    "file.write('local video = {}\\n')\n",
    "\n",
    "print('Processing video...')\n",
    "\n",
    "while success:\n",
    "    count += 1\n",
    "    filename = directory+\"frame%d.png\" % count\n",
    "    cv2.imwrite(filename, image)     # save frame as JPEG file      \n",
    "    success,image = vidcap.read()\n",
    "    capture = Image.open(filename)  \n",
    "    capture = capture.resize((sizex,sizey), Image.ANTIALIAS)\n",
    "    capture = capture.convert('RGB')\n",
    "    capture.save(filename, 'PNG')\n",
    "    file.write('\\tvideo[\"frame'+str(count)+'\"] = {\\n')\n",
    "    for x in range(0, sizex):\n",
    "        file.write('\\t{')\n",
    "        for y in range(0, sizey):\n",
    "            if y == sizey-1:\n",
    "                file.write(str(capture.getpixel((x,y))).strip('()'))\n",
    "            else:\n",
    "                file.write(str(capture.getpixel((x,y))).strip('()')+', ')\n",
    "        if x == sizex-1:\n",
    "            file.write('}\\n')\n",
    "        else:\n",
    "            file.write('},\\n')\n",
    "    file.write('\\t}\\n')\n",
    "    capture.close()    \n",
    "\n",
    "file.write('return video')\n",
    "file.close()\n",
    "\n",
    "print('Video finished processing into rgb framed table.')\n",
    "print('Number of frames: ', count)\n",
    "print(\"--- %s seconds ---\" % (time.time() - start_time))"
   ]
  },
  {
   "cell_type": "code",
   "execution_count": null,
   "metadata": {},
   "outputs": [],
   "source": []
  }
 ],
 "metadata": {
  "kernelspec": {
   "display_name": "Python 3",
   "language": "python",
   "name": "python3"
  },
  "language_info": {
   "codemirror_mode": {
    "name": "ipython",
    "version": 3
   },
   "file_extension": ".py",
   "mimetype": "text/x-python",
   "name": "python",
   "nbconvert_exporter": "python",
   "pygments_lexer": "ipython3",
   "version": "3.6.7"
  }
 },
 "nbformat": 4,
 "nbformat_minor": 2
}
